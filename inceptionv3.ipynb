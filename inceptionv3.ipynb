{
  "nbformat": 4,
  "nbformat_minor": 0,
  "metadata": {
    "colab": {
      "provenance": [],
      "authorship_tag": "ABX9TyMxD/tfA0BnsaUlwc5TVCgd",
      "include_colab_link": true
    },
    "kernelspec": {
      "name": "python3",
      "display_name": "Python 3"
    },
    "language_info": {
      "name": "python"
    }
  },
  "cells": [
    {
      "cell_type": "markdown",
      "metadata": {
        "id": "view-in-github",
        "colab_type": "text"
      },
      "source": [
        "<a href=\"https://colab.research.google.com/github/rezamohammadloo/cats-dogs-using-inception/blob/main/inceptionv3.ipynb\" target=\"_parent\"><img src=\"https://colab.research.google.com/assets/colab-badge.svg\" alt=\"Open In Colab\"/></a>"
      ]
    },
    {
      "cell_type": "code",
      "source": [
        "# Download the pre-trained weights. No top means it excludes the fully connected layer it uses for classification.\n",
        "!wget --no-check-certificate \\\n",
        "    https://storage.googleapis.com/mledu-datasets/inception_v3_weights_tf_dim_ordering_tf_kernels_notop.h5 \\\n",
        "    -O /tmp/inception_v3_weights_tf_dim_ordering_tf_kernels_notop.h5"
      ],
      "metadata": {
        "id": "nZA0--VCP0CH"
      },
      "execution_count": null,
      "outputs": []
    },
    {
      "cell_type": "code",
      "source": [
        "from tensorflow.keras.applications.inception_v3 import InceptionV3\n",
        "from tensorflow.keras import layers\n",
        "\n",
        "# Set the weights file you downloaded into a variable\n",
        "local_weights_file = '/tmp/inception_v3_weights_tf_dim_ordering_tf_kernels_notop.h5'\n",
        "\n",
        "# Initialize the base model.\n",
        "# Set the input shape and remove the dense layers.\n",
        "pre_trained_model = InceptionV3(input_shape = (150, 150, 3),\n",
        "                                include_top = False,\n",
        "                                weights = None)\n",
        "\n",
        "# Load the pre-trained weights you downloaded.\n",
        "pre_trained_model.load_weights(local_weights_file)\n",
        "\n",
        "# Freeze the weights of the layers.\n",
        "for layer in pre_trained_model.layers:\n",
        "  layer.trainable = False"
      ],
      "metadata": {
        "id": "GMn7vq-CP2eF"
      },
      "execution_count": 20,
      "outputs": []
    },
    {
      "cell_type": "code",
      "source": [
        "pre_trained_model.summary()"
      ],
      "metadata": {
        "id": "8AAjNr-yP9R4"
      },
      "execution_count": null,
      "outputs": []
    },
    {
      "cell_type": "code",
      "source": [
        "# Choose `mixed7` as the last layer of your base model\n",
        "last_layer = pre_trained_model.get_layer('mixed7')\n",
        "print('last layer output shape: ', last_layer.output_shape)\n",
        "last_output = last_layer.output"
      ],
      "metadata": {
        "colab": {
          "base_uri": "https://localhost:8080/"
        },
        "id": "ekZYIC88QBb8",
        "outputId": "190ebbeb-d9c2-418d-c273-c325387bb731"
      },
      "execution_count": 21,
      "outputs": [
        {
          "output_type": "stream",
          "name": "stdout",
          "text": [
            "last layer output shape:  (None, 7, 7, 768)\n"
          ]
        }
      ]
    },
    {
      "cell_type": "code",
      "source": [
        "from tensorflow.keras.optimizers import RMSprop\n",
        "from tensorflow.keras import Model\n",
        "\n",
        "# Flatten the output layer to 1 dimension\n",
        "x = layers.Flatten()(last_output)\n",
        "# Add a fully connected layer with 1,024 hidden units and ReLU activation\n",
        "x = layers.Dense(1024, activation='relu')(x)\n",
        "# Add a dropout rate of 0.2\n",
        "x = layers.Dropout(0.2)(x)\n",
        "# Add a final sigmoid layer for classification\n",
        "x = layers.Dense  (1, activation='sigmoid')(x)\n",
        "\n",
        "# Append the dense network to the base model\n",
        "model = Model(pre_trained_model.input, x)\n",
        "\n",
        "# Print the model summary. See your dense network connected at the end.\n",
        "model.summary()"
      ],
      "metadata": {
        "id": "8lIsr4dpQDd4"
      },
      "execution_count": null,
      "outputs": []
    },
    {
      "cell_type": "code",
      "source": [
        "# Set the training parameters\n",
        "model.compile(optimizer = RMSprop(learning_rate=0.0001),\n",
        "              loss = 'binary_crossentropy',\n",
        "              metrics = ['accuracy'])"
      ],
      "metadata": {
        "id": "5Gw4dk31QGqz"
      },
      "execution_count": 23,
      "outputs": []
    },
    {
      "cell_type": "code",
      "source": [
        "# Download the dataset\n",
        "!wget https://storage.googleapis.com/tensorflow-1-public/course2/cats_and_dogs_filtered.zip"
      ],
      "metadata": {
        "id": "BHBwvbkBQLR0"
      },
      "execution_count": null,
      "outputs": []
    },
    {
      "cell_type": "code",
      "source": [
        "import os\n",
        "import zipfile\n",
        "from tensorflow.keras.preprocessing.image import ImageDataGenerator\n",
        "\n",
        "# Extract the archive\n",
        "zip_ref = zipfile.ZipFile(\"./cats_and_dogs_filtered.zip\", 'r')\n",
        "zip_ref.extractall(\"tmp/\")\n",
        "zip_ref.close()\n",
        "\n",
        "# Define our example directories and files\n",
        "base_dir = 'tmp/cats_and_dogs_filtered'\n",
        "\n",
        "train_dir = os.path.join( base_dir, 'train')\n",
        "validation_dir = os.path.join( base_dir, 'validation')\n",
        "\n",
        "# Directory with training cat pictures\n",
        "train_cats_dir = os.path.join(train_dir, 'cats')\n",
        "\n",
        "# Directory with training dog pictures\n",
        "train_dogs_dir = os.path.join(train_dir, 'dogs')\n",
        "\n",
        "# Directory with validation cat pictures\n",
        "validation_cats_dir = os.path.join(validation_dir, 'cats')\n",
        "\n",
        "# Directory with validation dog pictures\n",
        "validation_dogs_dir = os.path.join(validation_dir, 'dogs')\n",
        "\n",
        "# Add our data-augmentation parameters to ImageDataGenerator\n",
        "train_datagen = ImageDataGenerator(rescale = 1./255.,\n",
        "                                   rotation_range = 40,\n",
        "                                   width_shift_range = 0.2,\n",
        "                                   height_shift_range = 0.2,\n",
        "                                   shear_range = 0.2,\n",
        "                                   zoom_range = 0.2,\n",
        "                                   horizontal_flip = True)\n",
        "\n",
        "# Note that the validation data should not be augmented!\n",
        "test_datagen = ImageDataGenerator( rescale = 1.0/255. )\n",
        "\n",
        "# Flow training images in batches of 20 using train_datagen generator\n",
        "train_generator = train_datagen.flow_from_directory(train_dir,\n",
        "                                                    batch_size = 20,\n",
        "                                                    class_mode = 'binary',\n",
        "                                                    target_size = (150, 150))\n",
        "\n",
        "# Flow validation images in batches of 20 using test_datagen generator\n",
        "validation_generator =  test_datagen.flow_from_directory( validation_dir,\n",
        "                                                          batch_size  = 20,\n",
        "                                                          class_mode  = 'binary',\n",
        "                                                          target_size = (150, 150))"
      ],
      "metadata": {
        "colab": {
          "base_uri": "https://localhost:8080/"
        },
        "id": "tu8q0sSiQPtr",
        "outputId": "b6e16798-f6a6-4c8a-9802-4a1775e25aa1"
      },
      "execution_count": 25,
      "outputs": [
        {
          "output_type": "stream",
          "name": "stdout",
          "text": [
            "Found 2000 images belonging to 2 classes.\n",
            "Found 1000 images belonging to 2 classes.\n"
          ]
        }
      ]
    },
    {
      "cell_type": "code",
      "source": [
        "# Train the model.\n",
        "history = model.fit(\n",
        "            train_generator,\n",
        "            validation_data = validation_generator,\n",
        "            steps_per_epoch = 100,\n",
        "            epochs = 20,\n",
        "            validation_steps = 50,\n",
        "            verbose = 2)"
      ],
      "metadata": {
        "colab": {
          "base_uri": "https://localhost:8080/"
        },
        "id": "5ba07E6zQYVr",
        "outputId": "ea73a042-9895-462d-a08e-d672047e3be4"
      },
      "execution_count": 26,
      "outputs": [
        {
          "output_type": "stream",
          "name": "stdout",
          "text": [
            "Epoch 1/20\n",
            "100/100 - 181s - loss: 0.3688 - accuracy: 0.8500 - val_loss: 0.1072 - val_accuracy: 0.9520 - 181s/epoch - 2s/step\n",
            "Epoch 2/20\n",
            "100/100 - 162s - loss: 0.2141 - accuracy: 0.9075 - val_loss: 0.1228 - val_accuracy: 0.9560 - 162s/epoch - 2s/step\n",
            "Epoch 3/20\n",
            "100/100 - 164s - loss: 0.1821 - accuracy: 0.9265 - val_loss: 0.1169 - val_accuracy: 0.9540 - 164s/epoch - 2s/step\n",
            "Epoch 4/20\n",
            "100/100 - 168s - loss: 0.1738 - accuracy: 0.9315 - val_loss: 0.1048 - val_accuracy: 0.9550 - 168s/epoch - 2s/step\n",
            "Epoch 5/20\n",
            "100/100 - 174s - loss: 0.1670 - accuracy: 0.9360 - val_loss: 0.0944 - val_accuracy: 0.9630 - 174s/epoch - 2s/step\n",
            "Epoch 6/20\n",
            "100/100 - 164s - loss: 0.1429 - accuracy: 0.9450 - val_loss: 0.2131 - val_accuracy: 0.9260 - 164s/epoch - 2s/step\n",
            "Epoch 7/20\n",
            "100/100 - 172s - loss: 0.1569 - accuracy: 0.9375 - val_loss: 0.1059 - val_accuracy: 0.9600 - 172s/epoch - 2s/step\n",
            "Epoch 8/20\n",
            "100/100 - 164s - loss: 0.1468 - accuracy: 0.9445 - val_loss: 0.0970 - val_accuracy: 0.9660 - 164s/epoch - 2s/step\n",
            "Epoch 9/20\n",
            "100/100 - 172s - loss: 0.1439 - accuracy: 0.9445 - val_loss: 0.1827 - val_accuracy: 0.9380 - 172s/epoch - 2s/step\n",
            "Epoch 10/20\n",
            "100/100 - 164s - loss: 0.1443 - accuracy: 0.9410 - val_loss: 0.1208 - val_accuracy: 0.9640 - 164s/epoch - 2s/step\n",
            "Epoch 11/20\n",
            "100/100 - 165s - loss: 0.1309 - accuracy: 0.9505 - val_loss: 0.0830 - val_accuracy: 0.9690 - 165s/epoch - 2s/step\n",
            "Epoch 12/20\n",
            "100/100 - 170s - loss: 0.1231 - accuracy: 0.9530 - val_loss: 0.1396 - val_accuracy: 0.9540 - 170s/epoch - 2s/step\n",
            "Epoch 13/20\n",
            "100/100 - 170s - loss: 0.1079 - accuracy: 0.9620 - val_loss: 0.0942 - val_accuracy: 0.9700 - 170s/epoch - 2s/step\n",
            "Epoch 14/20\n",
            "100/100 - 174s - loss: 0.1420 - accuracy: 0.9440 - val_loss: 0.0977 - val_accuracy: 0.9660 - 174s/epoch - 2s/step\n",
            "Epoch 15/20\n",
            "100/100 - 171s - loss: 0.1294 - accuracy: 0.9565 - val_loss: 0.1312 - val_accuracy: 0.9550 - 171s/epoch - 2s/step\n",
            "Epoch 16/20\n",
            "100/100 - 173s - loss: 0.1203 - accuracy: 0.9515 - val_loss: 0.1088 - val_accuracy: 0.9660 - 173s/epoch - 2s/step\n",
            "Epoch 17/20\n",
            "100/100 - 171s - loss: 0.1177 - accuracy: 0.9595 - val_loss: 0.0943 - val_accuracy: 0.9680 - 171s/epoch - 2s/step\n",
            "Epoch 18/20\n",
            "100/100 - 166s - loss: 0.1042 - accuracy: 0.9585 - val_loss: 0.1407 - val_accuracy: 0.9540 - 166s/epoch - 2s/step\n",
            "Epoch 19/20\n",
            "100/100 - 164s - loss: 0.1107 - accuracy: 0.9565 - val_loss: 0.1340 - val_accuracy: 0.9590 - 164s/epoch - 2s/step\n",
            "Epoch 20/20\n",
            "100/100 - 172s - loss: 0.1129 - accuracy: 0.9555 - val_loss: 0.1126 - val_accuracy: 0.9660 - 172s/epoch - 2s/step\n"
          ]
        }
      ]
    },
    {
      "cell_type": "code",
      "source": [
        "import matplotlib.pyplot as plt\n",
        "acc = history.history['accuracy']\n",
        "val_acc = history.history['val_accuracy']\n",
        "loss = history.history['loss']\n",
        "val_loss = history.history['val_loss']\n",
        "\n",
        "epochs = range(len(acc))\n",
        "\n",
        "plt.plot(epochs, acc, 'r', label='Training accuracy')\n",
        "plt.plot(epochs, val_acc, 'b', label='Validation accuracy')\n",
        "plt.title('Training and validation accuracy')\n",
        "plt.legend(loc=0)\n",
        "plt.figure()\n",
        "\n",
        "\n",
        "plt.show()"
      ],
      "metadata": {
        "colab": {
          "base_uri": "https://localhost:8080/",
          "height": 470
        },
        "id": "mLVsqmCpQta6",
        "outputId": "c346d49b-7f74-41ca-85de-c80ad517dd5f"
      },
      "execution_count": 27,
      "outputs": [
        {
          "output_type": "display_data",
          "data": {
            "text/plain": [
              "<Figure size 640x480 with 1 Axes>"
            ],
            "image/png": "[encoded data removed]"
          },
          "metadata": {}
        },
        {
          "output_type": "display_data",
          "data": {
            "text/plain": [
              "<Figure size 640x480 with 0 Axes>"
            ]
          },
          "metadata": {}
        }
      ]
    },
    {
      "cell_type": "code",
      "source": [],
      "metadata": {
        "id": "a6_xoNrdfobw"
      },
      "execution_count": null,
      "outputs": []
    }
  ]
}